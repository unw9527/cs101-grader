{
 "cells": [
  {
   "cell_type": "code",
   "execution_count": 2,
   "metadata": {},
   "outputs": [],
   "source": [
    "DATA_PATH = '/Users/unw/Desktop/CS101_TA/sols/lab5_data/'\n",
    "# a short function to remove repeat elements of a list\n",
    "def uniqify(input_list):\n",
    "    # make an empty dictionary\n",
    "    keys = {}\n",
    "    for e in input_list:\n",
    "        # add a key for each item in the list---duplicate keys will be overwritten\n",
    "        keys[e] = 1\n",
    "    return list(keys.keys())  # return a list of all unique keys\n",
    "\n",
    "def ans_process(fileNM):                  # +2\n",
    "    # Create a blank list called `entries` and an empty string called `current_style`.\n",
    "    entries = []                      # +1\n",
    "    current_style =\"\"                 # +1\n",
    "\n",
    "    # Open the file `filename`, read the data using readlines(), and close it.\n",
    "    myfile = open(fileNM,'r')                                    # +2\n",
    "    data = myfile.readlines()                                    # +2\n",
    "    myfile.close()                                               # +2\n",
    "    \n",
    "    # Loop through each line of the file and do the following:\n",
    "    for line in data:                                            # +2\n",
    "        # Strip the whitespace off of the ends of the line using the `strip` method.\n",
    "        line = line.strip()                                      # +2\n",
    "        # If the line is blank, `continue` execution.\n",
    "        if line == \"\":                                           # +2\n",
    "            continue                                             # +2\n",
    "        ### (The `continue` statement makes Python just go back to the `for` loop again with the next value \n",
    "        ### no more code is executed for the current value.)\n",
    "        \n",
    "        # If a line starts with `#`, it contains the musical style to be assigned to the musicians below\n",
    "        # until the next line with `#`.\n",
    "        # In this case, remove the `'#'` from the beginning of the string and assign the musical style to `current_style`.\n",
    "        # The loop should then `continue`.\n",
    "        if line[0] == '#':                                       # +2\n",
    "            current_style = line[1:]                             # +4\n",
    "            continue                                             # +2  \n",
    "        \n",
    "        # Otherwise, a line contains a blues musician.  In this case, process the record much as you did above,\n",
    "        # except that you also need to add a musical style to the tuple as the third element.\n",
    "        # These data should be appended to the list `entries` as a single entry in the form of a tuple,\n",
    "        #    (surname, first_name, current_style)\n",
    "        names = line.split(' ')                                  # +2\n",
    "        first_name = ' '.join(names[:-1])                        # +2\n",
    "        surname = names[-1]                                      # +2\n",
    "        entries.append( (surname, first_name, current_style) )   # +4\n",
    "    # Finally, `return` the list `entries`.\n",
    "    return entries       \n",
    "\n",
    "blues = ans_process(DATA_PATH + 'blues.txt')\n",
    "names = []\n",
    "for musician in blues:\n",
    "    names.append(musician[1])\n",
    "    names.append(musician[0])\n",
    "    \n",
    "# Setup code for your exercise---do NOT edit this cell\n",
    "records = [] # an empty list\n",
    "entries = ['Ivory Joe Hunter', 'Etta James', 'Little Willie Littlefield', 'Robert Lowery', 'J. J. Malone', 'Percy Mayfield', 'Jimmy McCracklin']"
   ]
  },
  {
   "cell_type": "code",
   "execution_count": null,
   "metadata": {},
   "outputs": [],
   "source": [
    "# lab 5 auto test\n",
    "score = 8\n",
    "msg = ''"
   ]
  },
  {
   "cell_type": "code",
   "execution_count": null,
   "metadata": {},
   "outputs": [],
   "source": [
    "# Q1 \n",
    "try:\n",
    "    flag = True\n",
    "    if records[1] != ('James', 'Etta'):\n",
    "        msg += \"Q1: the expected 2nd entry is: ('James', 'Etta'), but your answer is: {}; \".format(records[1])\n",
    "        flag = False\n",
    "    if records[2] != ('Littlefield', 'Little Willie'):\n",
    "        msg += \"Q1: the expected 3rd entry is: ('Littlefield', 'Little Willie'), but your answer is: {}; \".format(records[2])\n",
    "        flag = False\n",
    "    if flag: \n",
    "        score += 5\n",
    "except Exception as e:\n",
    "    msg += 'Q1 wrong: {}; '.format(e)"
   ]
  },
  {
   "cell_type": "code",
   "execution_count": null,
   "metadata": {},
   "outputs": [],
   "source": [
    "# Q2\n",
    "try:\n",
    "    zydeco = process(DATA_PATH + 'zydeco.txt')\n",
    "    flag = True\n",
    "    if zydeco[2] != ('Ardoin', 'Chris', 'Zydeco'):\n",
    "        msg += 'Q2: the expected 3rd entry of zydeco is: {}, but your answer is: {}; '.format(('Ardoin', 'Chris', 'Zydeco'), zydeco[2])\n",
    "        flag = False\n",
    "    if zydeco[-2] != ('Ardoin', 'Amede', 'Zydeco'):\n",
    "        msg += 'Q2: the expected second last entry of zydeco is: {}, but your answer is: {}; '.format(('Ardoin', 'Amede', 'Zydeco'), zydeco[-2])\n",
    "        False\n",
    "    if flag:\n",
    "        score += 38\n",
    "        \n",
    "except Exception as e:\n",
    "    msg += 'Q2 wrong: {}; '.format(e)"
   ]
  },
  {
   "cell_type": "code",
   "execution_count": null,
   "metadata": {},
   "outputs": [],
   "source": [
    "# Q3\n",
    "try:\n",
    "    blues = process(DATA_PATH + 'blues.txt')\n",
    "    blues_styles = count_styles(blues)\n",
    "    if blues_styles['Swamp Blues'] != 20:\n",
    "        msg += 'Q3: your counting of \"Swamp Blues\" in blues.txt wrong; '\n",
    "    else:\n",
    "        score += 10\n",
    "except Exception as e:\n",
    "    msg += 'Q3 wrong: {}; '.format(e)"
   ]
  },
  {
   "cell_type": "code",
   "execution_count": null,
   "metadata": {},
   "outputs": [],
   "source": [
    "# Q4\n",
    "try:\n",
    "    blues = process(DATA_PATH + 'blues.txt')\n",
    "    blues_surnames = unique_surname_list(blues)\n",
    "    if len(blues_surnames) == 291:\n",
    "        score += 5\n",
    "    else:\n",
    "        msg += 'Q4: the length of the list returned from your unique_surname_list is wrong; '\n",
    "except Exception as e:\n",
    "    msg += 'Q4 wrong: {}; '.format(e)"
   ]
  },
  {
   "cell_type": "code",
   "execution_count": null,
   "metadata": {},
   "outputs": [],
   "source": [
    "# Q5\n",
    "try: \n",
    "    if len(name_bits) == 928 or name_bits == ['Jimmy', 'McCracklin']:\n",
    "        score += 4\n",
    "    else:\n",
    "        msg += 'Q5: the length of name_bits is wrong. Your length is: {}; '.format(len(name_bits))\n",
    "except Exception as e:\n",
    "    msg += 'Q5 wrong: {}; '.format(e)\n",
    "        "
   ]
  },
  {
   "cell_type": "code",
   "execution_count": null,
   "metadata": {},
   "outputs": [],
   "source": [
    "# Q6\n",
    "try: \n",
    "    sw = process(DATA_PATH + 'swamppop.txt')\n",
    "    w = count_names(sw)\n",
    "    flag = True\n",
    "    if len(w) != 38:\n",
    "        msg += 'Q6: the length of the dictionary returned from your count_names is wrong; '\n",
    "        flag = False\n",
    "    if w['Clanton'] != 1:\n",
    "        # msg += 'Q6: the number of times \"Clanton\" appears in swamppop is 1, but your answer is: {}; '.format(w['Clanton'])\n",
    "        msg += 'Q6: your counting of \"Clanton\" in swamppop is wrong; '\n",
    "        flag = False\n",
    "    if w['Bobby'] != 2:\n",
    "        # msg += 'Q6: the number of times \"Bobby\" appears in swamppop is 2, but your answer is: {}; '.format(w['Bobby'])\n",
    "        msg += 'Q6: your counting of \"Bobby\" in swamppop is wrong; '\n",
    "        flag = False\n",
    "    if flag:\n",
    "        score += 30\n",
    "except Exception as e:\n",
    "    msg += 'Q6 wrong: {}; '.format(e)"
   ]
  },
  {
   "cell_type": "code",
   "execution_count": null,
   "metadata": {},
   "outputs": [],
   "source": [
    "with open('/users/unw/Desktop/CS101_TA/grades/lab5_test_score.csv', 'a') as f:\n",
    "    f.write('{}, '.format(student_email))\n",
    "    f.write('score: {}, '.format(score))\n",
    "    f.write('feedback: {}\\n'.format(msg))\n"
   ]
  }
 ],
 "metadata": {
  "kernelspec": {
   "display_name": "Python 3.7.13 ('deeplearning')",
   "language": "python",
   "name": "python3"
  },
  "language_info": {
   "codemirror_mode": {
    "name": "ipython",
    "version": 3
   },
   "file_extension": ".py",
   "mimetype": "text/x-python",
   "name": "python",
   "nbconvert_exporter": "python",
   "pygments_lexer": "ipython3",
   "version": "3.7.13"
  },
  "orig_nbformat": 4,
  "vscode": {
   "interpreter": {
    "hash": "c65d97aa28803afe8a2483e7709cf7751c6446c62982589ae4da6cb2f06943b6"
   }
  }
 },
 "nbformat": 4,
 "nbformat_minor": 2
}
