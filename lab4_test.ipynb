{
 "cells": [
  {
   "cell_type": "code",
   "execution_count": null,
   "metadata": {},
   "outputs": [],
   "source": [
    "# Dependencies\n",
    "\n",
    "genetic_code = {\n",
    "    'UUU': 'F', 'UUC': 'F', 'UUA': 'L', 'UUG': 'L',        'CUU': 'L', 'CUC': 'L', 'CUA': 'L', 'CUG': 'L',\n",
    "    'AUU': 'I', 'AUC': 'I', 'AUA': 'I', 'AUG': 'M',        'GUU': 'V', 'GUC': 'V', 'GUA': 'V', 'GUG': 'V',\n",
    "    \n",
    "    'UCU': 'S', 'UCC': 'S', 'UCA': 'S', 'UCG': 'S',        'CCU': 'P', 'CCC': 'P', 'CCA': 'P', 'CCG': 'P',\n",
    "    'ACU': 'T', 'ACC': 'T', 'ACA': 'T', 'ACG': 'T',        'GCU': 'A', 'GCC': 'A', 'GCA': 'A', 'GCG': 'A',\n",
    "    \n",
    "    'UAU': 'Y', 'UAC': 'Y', 'UAA': '*', 'UAG': '*',        'CAU': 'H', 'CAC': 'H', 'CAA': 'Q', 'CAG': 'Q',\n",
    "    'AAU': 'N', 'AAC': 'N', 'AAA': 'K', 'AAG': 'K',        'GAU': 'D', 'GAC': 'D', 'GAA': 'E', 'GAG': 'E',\n",
    "    \n",
    "    'UGU': 'C', 'UGC': 'C', 'UGA': '*', 'UGG': 'W',        'CGU': 'R', 'CGC': 'R', 'CGA': 'R', 'CGG': 'R',\n",
    "    'AGU': 'S', 'AGC': 'S', 'AGA': 'R', 'AGG': 'R',        'GGU': 'G', 'GGC': 'G', 'GGA': 'G', 'GGG': 'G',\n",
    "}\n",
    "allowed_codons = set('ACGU')\n",
    "\n",
    "def rna2amino(codon):\n",
    "    '''\n",
    "    Convert a three-letter RNA codon to an amino acid.\n",
    "    '''\n",
    "    # Check for the correct length of the codon.\n",
    "    if len(codon) != 3:\n",
    "        return None\n",
    "    codon = codon.upper()\n",
    "    # Check that the codon is valid.\n",
    "    if (set(codon) > allowed_codons):\n",
    "        return None\n",
    "    return genetic_code[codon]"
   ]
  },
  {
   "cell_type": "code",
   "execution_count": 4,
   "metadata": {},
   "outputs": [],
   "source": [
    "score = 10\n",
    "msg = ''"
   ]
  },
  {
   "cell_type": "code",
   "execution_count": null,
   "metadata": {},
   "outputs": [],
   "source": [
    "# Q1\n",
    "try:\n",
    "    if dna2rna('CGACGCATAGTTGCGATCGAAATTGCGGATTCAG') == 'GCUGCGUAUCAACGCUAGCUUUAACGCCUAAGUC':\n",
    "        score += 35\n",
    "    else:\n",
    "        msg += 'Q1 wrong; '\n",
    "        ls = ['A', 'T', 'C', 'G', 'U']\n",
    "        ans = ['U', 'A', 'G', 'C', 'A']\n",
    "        for l, a in zip(ls, ans):\n",
    "            if dna2rna(l) == a:\n",
    "                score += 9\n",
    "    if dna2rna('cgat') != 'GCUA':\n",
    "        score -= 5\n",
    "        msg += 'Q1: You need to convert all input to upper case; '\n",
    "except Exception as e:\n",
    "    msg += 'Q1 wrong: {}; '.format(e)"
   ]
  },
  {
   "cell_type": "code",
   "execution_count": null,
   "metadata": {},
   "outputs": [],
   "source": [
    "# Q2\n",
    "try:\n",
    "    if rna2dna('GCUAUUCUAGCUAAUUCGCUAGCCUAAGUGCGC') == 'CGATAAGATCGATTAAGCGATCGGATTCACGCG':\n",
    "        score += 35\n",
    "    else:\n",
    "        msg += 'Q2 wrong; '\n",
    "        ans = ['A', 'T', 'C', 'G', 'U']\n",
    "        ls = ['U', 'A', 'G', 'C', 'A']\n",
    "        for l, a in zip(ls, ans):\n",
    "            if rna2dna(l) == a:\n",
    "                score += 9\n",
    "    if rna2dna('gcua') != 'CGAT':\n",
    "        score -= 5\n",
    "        msg += 'Q2: You need to convert all input to upper case; '\n",
    "except Exception as e:\n",
    "    msg += 'Q2 wrong: {}; '.format(e)"
   ]
  },
  {
   "cell_type": "code",
   "execution_count": null,
   "metadata": {},
   "outputs": [],
   "source": [
    "# Q3\n",
    "try:\n",
    "    if str2seq('CUGUGACUCUGUCUGGAAAGAGUCUGUCUGGAUCAUAGUAGAAAUAGCCAAUUAGCC') == 'L*LCLERVCLDHSRNSQLA':\n",
    "        score += 12\n",
    "    else:\n",
    "        msg += 'Q3 wrong; '\n",
    "except Exception as e:\n",
    "    msg += 'Q3 wrong: {}; '.format(e)"
   ]
  },
  {
   "cell_type": "code",
   "execution_count": null,
   "metadata": {},
   "outputs": [],
   "source": [
    "# Q4\n",
    "test_data = 'CACCTCAAGCGCGCCCCCAAGGTGTACTGCGGGGGGGACGAGCGCGACGTCCTCCGCGTCGACCGTCTTTCACGTGTACGACATCCTGGAGAACGTGGAGCACGCGTACATGTTTTCCGGTGGCGGCGGCCCGCTGTCCCCCGGAGGAAAGTCGGCGGCCAGGGCGGCGTCCGGGTTTTTTGCGCCCGCCGGCCCTCGCGGAGCCGGCCGGGGACCCCCTCATCGCCCCGCGGGTGCTGGAGGGGCGCTCGCGCCTGTGGGGCGGCGTGGACCACGCCCCGGCGGGGTTCAACCCCACCGTCACCGTCTTTCACGTGTACGACATCCTGGCCTTGCGAGGATGCCCCCCCGGAGAAGCGCGCCGAGGCAAGGTCGGGCGGCTTCTGGCCGCGGGTCGGGACGCAACAGAAGCCGACCGGGCCAACCCAGCGCCATACGTACTATAGCGAATGCGATGAATTTCGATTCATCGCCCCGCGGGTGCTGGAGGGGCGCTCGCGCCTGTGGGGCGGCGTGGACCACGCCCCGGCGGGGTTCAACCCCACCGTCAACTTTTACAACCCCTACCTCGCCCCATGCACGACGGT'\n",
    "try:\n",
    "    if dna2seq(test_data) == 'VEFARGFHMTPPLLALQEAQLAESAHAVGPLAPRAHVQKATAAGRQGASFQPPVPPQAQKTRAAGSASAGPWGSSGAPTTSPRARTPRRTWCGAAPSWGGSGRKCTCCRTGTLLRGGLFARLRSSPPKTGAQPCVVFGWPGWVAVCMISLTLLKAK*RGAHDLPASADTPPHLVRGRPKLGWQLKMLGMERGTCC':\n",
    "        score += 8\n",
    "    else:\n",
    "        msg += 'Q4 wrong; '\n",
    "except Exception as e:\n",
    "    msg += 'Q4 wrong: {}; '.format(e)"
   ]
  },
  {
   "cell_type": "code",
   "execution_count": null,
   "metadata": {},
   "outputs": [],
   "source": [
    "with open('/users/unw/Desktop/CS101_TA/lab4_test_score.csv', 'a') as f:\n",
    "    f.write('{}, '.format(student_email))\n",
    "    f.write('score: {}, '.format(score))\n",
    "    f.write('feedback: {}\\n'.format(msg))\n"
   ]
  }
 ],
 "metadata": {
  "kernelspec": {
   "display_name": "Python 3.7.13 ('deeplearning')",
   "language": "python",
   "name": "python3"
  },
  "language_info": {
   "codemirror_mode": {
    "name": "ipython",
    "version": 3
   },
   "file_extension": ".py",
   "mimetype": "text/x-python",
   "name": "python",
   "nbconvert_exporter": "python",
   "pygments_lexer": "ipython3",
   "version": "3.7.13 (default, Mar 28 2022, 07:24:34) \n[Clang 12.0.0 ]"
  },
  "orig_nbformat": 4,
  "vscode": {
   "interpreter": {
    "hash": "c65d97aa28803afe8a2483e7709cf7751c6446c62982589ae4da6cb2f06943b6"
   }
  }
 },
 "nbformat": 4,
 "nbformat_minor": 2
}
