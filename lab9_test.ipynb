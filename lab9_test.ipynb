{
 "cells": [
  {
   "cell_type": "code",
   "execution_count": null,
   "metadata": {},
   "outputs": [],
   "source": [
    "# Dependencies\n",
    "from string import ascii_uppercase as alphabet\n",
    "alphabet1 = 'ABCDEFGHIJKLMNOPQRSTUVWXYZ'\n",
    "alphabet2 = 'BCDEFGHIJKLMNOPQRSTUVWXYZA'"
   ]
  },
  {
   "cell_type": "code",
   "execution_count": 1,
   "metadata": {},
   "outputs": [],
   "source": [
    "score = 20\n",
    "msg = ''"
   ]
  },
  {
   "cell_type": "code",
   "execution_count": null,
   "metadata": {},
   "outputs": [],
   "source": [
    "# Q1\n",
    "try:\n",
    "    if encode_caesar('Rakjaskl ASKJKLA alksjd231 123123KJKLsjkK ') == 'SBLKBTLM BTLKLMB BMLTKE231 123123LKLMTKLL ':\n",
    "        score += 22\n",
    "    else:\n",
    "        msg += 'Q1: Incorrect output for encode_caesar(\"Rakjaskl ASKJKLA alksjd231 123123KJKLsjkK \"). '\n",
    "except Exception as e:\n",
    "    msg += 'Q1: {}; '.format(e)"
   ]
  },
  {
   "cell_type": "code",
   "execution_count": null,
   "metadata": {},
   "outputs": [],
   "source": [
    "# Q2\n",
    "try:\n",
    "    if mapper(\"Q\", 4) == \"U\":\n",
    "        score += 8\n",
    "        if mapper(\"W\", 100) != \"S\":\n",
    "            score -= 3\n",
    "            msg += 'Q2: Incorrect output for mapper(\"W\", 100). '\n",
    "        if mapper(\"W\", -1) != \"V\":\n",
    "            score -= 3\n",
    "            msg += 'Q2: Incorrect output for mapper(\"W\", -1). '\n",
    "        if mapper(\"W\") != \"X\":\n",
    "            score -= 2\n",
    "            msg += 'Q2: Incorrect output for mapper(\"W\"). '\n",
    "    else:\n",
    "        msg += 'Q2: Incorrect output. '\n",
    "except Exception as e:\n",
    "    msg += 'Q2: {}; '.format(e)"
   ]
  },
  {
   "cell_type": "code",
   "execution_count": null,
   "metadata": {},
   "outputs": [],
   "source": [
    "# Q3\n",
    "try:\n",
    "    if caesar_cipher(\"\"\"UISNnkalsdnkaJLK kjsdfhkaj KJKSD 123kljKL \"\"\") == 'VJTOOLBMTEOLBKML LKTEGILBK LKLTE 123LMKLM ':\n",
    "        score += 24\n",
    "        if caesar_cipher(\"\"\"UISNnkalsdnkaJLK kjsdfhkaj KJKSD 123kljKL \"\"\", 100) != 'QEOJJGWHOZJGWFHG GFOZBDGWF GFGOZ 123GHFGH ':\n",
    "            score -= 10\n",
    "            msg += 'Q3: Incorrect output for caesar_cipher(\"\"\"UISNnkalsdnkaJLK kjsdfhkaj KJKSD 123kljKL \"\"\", 100). '\n",
    "        if caesar_cipher(\"\"\"UISNnkalsdnkaJLK kjsdfhkaj KJKSD 123kljKL \"\"\", -100) != 'YMWRROEPWHROENPO ONWHJLOEN ONOWH 123OPNOP ':\n",
    "            score -= 10\n",
    "            msg += 'Q3: Incorrect output for caesar_cipher(\"\"\"UISNnkalsdnkaJLK kjsdfhkaj KJKSD 123kljKL \"\"\", -100). '\n",
    "    else:\n",
    "        msg += 'Q3: Incorrect output. '\n",
    "except Exception as e:\n",
    "    msg += 'Q3: {}; '.format(e)"
   ]
  },
  {
   "cell_type": "code",
   "execution_count": null,
   "metadata": {},
   "outputs": [],
   "source": [
    "# Q4\n",
    "try:\n",
    "    if ans == 14:\n",
    "        score += 6\n",
    "    else:\n",
    "        msg += 'Q4: Incorrect output. '\n",
    "except Exception as e:\n",
    "    msg += 'Q4: {}; '.format(e)"
   ]
  },
  {
   "cell_type": "code",
   "execution_count": null,
   "metadata": {},
   "outputs": [],
   "source": [
    "# Q5\n",
    "try:\n",
    "    if rotor_cipher('skdjaskjdkl akjhfasdjk asjhHJKJKHJKS Djk 2131hj2k jk hJK DJK ', 0) == 'SLFMEXQQLTV LWWVUQJVCE VOGFGJLLNLOQZ LSU 2131SV2X XZ XAC WDF ':\n",
    "        score += 20\n",
    "        if rotor_cipher('skdjaskjdkl akjhfasdjk asjhHJKJKHJKS Djk 2131hj2k jk hJK DJK ', 10) != 'CVPWOHAAVDF VGGFEATFMO FYQPQTVVXVYAJ VCE 2131CF2H HJ HKM GNP ':\n",
    "            score -= 5\n",
    "            msg += 'Q5: Incorrect output for rotor_cipher(\"skdjaskjdkl akjhfasdjk asjhHJKJKHJKS Djk 2131hj2k jk hJK DJK \", 10). '\n",
    "        if rotor_cipher('skdjaskjdkl akjhfasdjk asjhHJKJKHJKS Djk 2131hj2k jk hJK DJK ', -10) != 'IBVCUNGGBJL BMMLKGZLSU LEWVWZBBDBEGP BIK 2131IL2N NP NQS MTV ':\n",
    "            score -= 5\n",
    "            msg += 'Q5: Incorrect output for rotor_cipher(\"skdjaskjdkl akjhfasdjk asjhHJKJKHJKS Djk 2131hj2k jk hJK DJK \", -10). '\n",
    "    else:\n",
    "        msg += 'Q5: Incorrect output. '\n",
    "except Exception as e:\n",
    "    msg += 'Q5: {}; '.format(e)"
   ]
  },
  {
   "cell_type": "code",
   "execution_count": 3,
   "metadata": {},
   "outputs": [],
   "source": [
    "# Q6\n",
    "try: \n",
    "    if two_rotors('aksdjas kJKKL 213jk KL pp ', 1, 1) == 'CNWIPHA TTVWY 213XZ AC HI ':\n",
    "        score += 8\n",
    "        if two_rotors('aksdjas kJKKL 213jk KL pp ', -1, 1) != 'AMVHOGZ SSUVX 213WY ZB GH ':\n",
    "            score -= 4\n",
    "            msg += 'Q6: Incorrect output for two_rotors(\"aksdjas kJKKL 213jk KL pp \", -1, 1). '\n",
    "        if two_rotors('aksdjas kJKKL 213jk KL pp ', 1, -1) != 'ALUGNFY RRTUW 213VX YA FG ':\n",
    "            score -= 4\n",
    "            msg += 'Q6: Incorrect output for two_rotors(\"aksdjas kJKKL 213jk KL pp \", 1, -1). '\n",
    "    else:\n",
    "        msg += 'Q6: Incorrect output. '\n",
    "except Exception as e:\n",
    "    msg += 'Q6: {}; '.format(e)"
   ]
  },
  {
   "cell_type": "code",
   "execution_count": null,
   "metadata": {},
   "outputs": [],
   "source": [
    "with open('/users/unw/Desktop/CS101_TA/grades/lab9_test_score.csv', 'a') as f:\n",
    "    f.write('{},'.format(student_email))\n",
    "    if score == 20:\n",
    "        f.write('0,Empty file\\n')\n",
    "    else:\n",
    "        f.write('{},'.format(score))\n",
    "        f.write('{}\\n'.format(msg))\n"
   ]
  }
 ],
 "metadata": {
  "kernelspec": {
   "display_name": "Python 3.7.13 ('deeplearning')",
   "language": "python",
   "name": "python3"
  },
  "language_info": {
   "codemirror_mode": {
    "name": "ipython",
    "version": 3
   },
   "file_extension": ".py",
   "mimetype": "text/x-python",
   "name": "python",
   "nbconvert_exporter": "python",
   "pygments_lexer": "ipython3",
   "version": "3.7.13 (default, Mar 28 2022, 07:24:34) \n[Clang 12.0.0 ]"
  },
  "orig_nbformat": 4,
  "vscode": {
   "interpreter": {
    "hash": "c65d97aa28803afe8a2483e7709cf7751c6446c62982589ae4da6cb2f06943b6"
   }
  }
 },
 "nbformat": 4,
 "nbformat_minor": 2
}
